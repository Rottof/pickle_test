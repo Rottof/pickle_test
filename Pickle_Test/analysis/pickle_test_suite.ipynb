{
 "cells": [
  {
   "cell_type": "markdown",
   "id": "b41b3ed6",
   "metadata": {},
   "source": [
    "# Pickle 模块测试套件 - 稳定性与正确性分析\n"
   ]
  },
  {
   "cell_type": "code",
   "execution_count": 1,
   "id": "9f0e332c",
   "metadata": {},
   "outputs": [],
   "source": [
    "import pickle\n",
    "import hashlib\n",
    "import sys\n",
    "import platform\n",
    "import datetime\n",
    "import os\n"
   ]
  },
  {
   "cell_type": "code",
   "execution_count": 2,
   "id": "e3bce0f6",
   "metadata": {},
   "outputs": [],
   "source": [
    "   def get_pickle_hash(obj):\n",
    "       try:\n",
    "           data = pickle.dumps(obj)\n",
    "           return hashlib.sha256(data).hexdigest()\n",
    "       except Exception as e:\n",
    "           return f\"ERROR: {e}\""
   ]
  },
  {
   "cell_type": "markdown",
   "id": "df3f22c4",
   "metadata": {},
   "source": [
    "## 白盒测试\n"
   ]
  },
  {
   "cell_type": "code",
   "execution_count": 3,
   "id": "0fea4a0c",
   "metadata": {},
   "outputs": [],
   "source": [
    "def test_get_pickle_hash_whitebox():\n",
    "    # 测试正常情况\n",
    "    normal_obj = {\"key\": \"value\"}\n",
    "    normal_hash = get_pickle_hash(normal_obj)\n",
    "    assert isinstance(normal_hash, str)\n",
    "    assert len(normal_hash) == 64  # SHA-256 哈希值长度\n",
    "    \n",
    "    # 测试异常处理\n",
    "    class UnpickleableObject:\n",
    "        def __reduce__(self):\n",
    "            raise Exception(\"Cannot pickle this object\")\n",
    "    \n",
    "    error_obj = UnpickleableObject()\n",
    "    error_result = get_pickle_hash(error_obj)\n",
    "    assert error_result.startswith(\"ERROR:\")\n",
    "    \n",
    "    # 测试空对象\n",
    "    empty_hash = get_pickle_hash(None)\n",
    "    assert isinstance(empty_hash, str)\n",
    "    assert len(empty_hash) == 64\n",
    "    \n",
    "    # 测试大对象\n",
    "    large_obj = {\"data\": \"x\" * 1000000}\n",
    "    large_hash = get_pickle_hash(large_obj)\n",
    "    assert isinstance(large_hash, str)\n",
    "    assert len(large_hash) == 64\n",
    "\n",
    "    # 测试线程锁\n",
    "    thread_lock = threading.Lock()\n",
    "    lock_hash = get_pickle_hash(thread_lock)\n",
    "    assert lock_hash.startswith(\"ERROR:\"), \"线程锁应该无法序列化\""
   ]
  },
  {
   "cell_type": "markdown",
   "id": "6f132a98",
   "metadata": {},
   "source": [
    "## 功能性测试：基础类型的序列化\n"
   ]
  },
  {
   "cell_type": "code",
   "execution_count": 4,
   "id": "87b8a0c9",
   "metadata": {},
   "outputs": [
    {
     "data": {
      "text/plain": [
       "{'整数': {'原始对象': 42, '反序列化结果': 42, '是否一致': True},\n",
       " '浮点数': {'原始对象': 3.14159, '反序列化结果': 3.14159, '是否一致': True},\n",
       " '布尔值': {'原始对象': True, '反序列化结果': True, '是否一致': True},\n",
       " '字符串': {'原始对象': 'ChatGPT', '反序列化结果': 'ChatGPT', '是否一致': True},\n",
       " '列表': {'原始对象': [1, 2, 3], '反序列化结果': [1, 2, 3], '是否一致': True},\n",
       " '字典': {'原始对象': {'a': 1, 'b': 2}, '反序列化结果': {'a': 1, 'b': 2}, '是否一致': True},\n",
       " '元组': {'原始对象': (4, 5, 6), '反序列化结果': (4, 5, 6), '是否一致': True},\n",
       " '集合': {'原始对象': {7, 8, 9}, '反序列化结果': {7, 8, 9}, '是否一致': True},\n",
       " '嵌套结构': {'原始对象': {'x': [1, {'y': (3, 4)}]},\n",
       "  '反序列化结果': {'x': [1, {'y': (3, 4)}]},\n",
       "  '是否一致': True},\n",
       " '空值': {'原始对象': None, '反序列化结果': None, '是否一致': True}}"
      ]
     },
     "execution_count": 4,
     "metadata": {},
     "output_type": "execute_result"
    }
   ],
   "source": [
    "test_data = {\n",
    "    \"整数\": 42,\n",
    "    \"浮点数\": 3.14159,\n",
    "    \"布尔值\": True,\n",
    "    \"字符串\": \"ChatGPT\",\n",
    "    \"列表\": [1, 2, 3],\n",
    "    \"字典\": {\"a\": 1, \"b\": 2},\n",
    "    \"元组\": (4, 5, 6),\n",
    "    \"集合\": {7, 8, 9},\n",
    "    \"嵌套结构\": {\"x\": [1, {\"y\": (3, 4)}]},\n",
    "    \"空值\": None\n",
    "}\n",
    "\n",
    "results = {}\n",
    "for name, obj in test_data.items():\n",
    "    try:\n",
    "        serialized = pickle.dumps(obj)\n",
    "        deserialized = pickle.loads(serialized)\n",
    "        passed = obj == deserialized\n",
    "    except Exception as e:\n",
    "        passed = False\n",
    "        deserialized = str(e)\n",
    "    results[name] = {\n",
    "        \"原始对象\": obj,\n",
    "        \"反序列化结果\": deserialized,\n",
    "        \"是否一致\": passed\n",
    "    }\n",
    "\n",
    "results\n"
   ]
  },
  {
   "cell_type": "markdown",
   "id": "9ca4a5df",
   "metadata": {},
   "source": [
    "## 稳定性测试：相同对象的 Pickle 哈希值是否一致\n"
   ]
  },
  {
   "cell_type": "code",
   "execution_count": 5,
   "id": "e55e5a5e",
   "metadata": {},
   "outputs": [
    {
     "name": "stdout",
     "output_type": "stream",
     "text": [
      "第一次哈希: 415f39ea4600f7fee567c52c63c008d0dda456cc3fe918cb6b0f086918545b6b\n",
      "第二次哈希: 415f39ea4600f7fee567c52c63c008d0dda456cc3fe918cb6b0f086918545b6b\n",
      "第三次哈希: 415f39ea4600f7fee567c52c63c008d0dda456cc3fe918cb6b0f086918545b6b\n",
      "一致性: True\n"
     ]
    }
   ],
   "source": [
    "sample_object = {\"test\": [1, 2, 3], \"time\": datetime.datetime(2020, 1, 1)}\n",
    "\n",
    "hash1 = get_pickle_hash(sample_object)\n",
    "hash2 = get_pickle_hash(sample_object)\n",
    "hash3 = get_pickle_hash(sample_object)\n",
    "\n",
    "print(\"第一次哈希:\", hash1)\n",
    "print(\"第二次哈希:\", hash2)\n",
    "print(\"第三次哈希:\", hash3)\n",
    "print(\"一致性:\", hash1 == hash2 == hash3)\n"
   ]
  },
  {
   "cell_type": "markdown",
   "id": "aba62c65",
   "metadata": {},
   "source": [
    "## 边界情况测试"
   ]
  },
  {
   "cell_type": "code",
   "execution_count": 6,
   "id": "8918e41e",
   "metadata": {},
   "outputs": [],
   "source": [
    "def test_get_pickle_hash_whitebox():\n",
    "    # 测试正常情况\n",
    "    normal_obj = {\"key\": \"value\"}\n",
    "    normal_hash = get_pickle_hash(normal_obj)\n",
    "    assert isinstance(normal_hash, str)\n",
    "    assert len(normal_hash) == 64  # SHA-256 哈希值长度\n",
    "    \n",
    "    # 测试异常处理\n",
    "    class UnpickleableObject:\n",
    "        def __reduce__(self):\n",
    "            raise Exception(\"Cannot pickle this object\")\n",
    "    \n",
    "    error_obj = UnpickleableObject()\n",
    "    error_result = get_pickle_hash(error_obj)\n",
    "    assert error_result.startswith(\"ERROR:\")\n",
    "    \n",
    "    # 测试空对象\n",
    "    empty_hash = get_pickle_hash(None)\n",
    "    assert isinstance(empty_hash, str)\n",
    "    assert len(empty_hash) == 64\n",
    "    \n",
    "    # 测试大对象\n",
    "    large_obj = {\"data\": \"x\" * 1000000}\n",
    "    large_hash = get_pickle_hash(large_obj)\n",
    "    assert isinstance(large_hash, str)\n",
    "    assert len(large_hash) == 64"
   ]
  },
  {
   "cell_type": "markdown",
   "id": "62684af0",
   "metadata": {},
   "source": [
    "## 模糊测试示例：随机生成复杂对象并检查序列化稳定性\n"
   ]
  },
  {
   "cell_type": "code",
   "execution_count": 7,
   "id": "29ac5c5b",
   "metadata": {},
   "outputs": [
    {
     "name": "stdout",
     "output_type": "stream",
     "text": [
      "生成的结构: ({'0': {'0': 'text', '1': 3.14}, '1': ['text', True]}, (('text', None), (42, True)))\n",
      "哈希一致性: True\n"
     ]
    }
   ],
   "source": [
    "import random\n",
    "\n",
    "def generate_random_nested_structure(depth=3):\n",
    "    if depth == 0:\n",
    "        return random.choice([42, 3.14, True, \"text\", None])\n",
    "    structure_type = random.choice([\"list\", \"dict\", \"tuple\"])\n",
    "    if structure_type == \"list\":\n",
    "        return [generate_random_nested_structure(depth - 1) for _ in range(2)]\n",
    "    elif structure_type == \"dict\":\n",
    "        return {str(i): generate_random_nested_structure(depth - 1) for i in range(2)}\n",
    "    else:\n",
    "        return tuple(generate_random_nested_structure(depth - 1) for _ in range(2))\n",
    "\n",
    "fuzz_object = generate_random_nested_structure()\n",
    "hash_before = get_pickle_hash(fuzz_object)\n",
    "hash_after = get_pickle_hash(fuzz_object)\n",
    "\n",
    "print(\"生成的结构:\", fuzz_object)\n",
    "print(\"哈希一致性:\", hash_before == hash_after)\n"
   ]
  }
 ],
 "metadata": {
  "kernelspec": {
   "display_name": "Python 3",
   "language": "python",
   "name": "python3"
  },
  "language_info": {
   "codemirror_mode": {
    "name": "ipython",
    "version": 3
   },
   "file_extension": ".py",
   "mimetype": "text/x-python",
   "name": "python",
   "nbconvert_exporter": "python",
   "pygments_lexer": "ipython3",
   "version": "3.9.6"
  }
 },
 "nbformat": 4,
 "nbformat_minor": 5
}
