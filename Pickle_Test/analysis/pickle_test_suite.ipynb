{
 "cells": [
  {
   "cell_type": "markdown",
   "id": "b41b3ed6",
   "metadata": {},
   "source": [
    "# Pickle 模块测试套件 - 稳定性与正确性分析\n"
   ]
  },
  {
   "cell_type": "code",
   "execution_count": 27,
   "id": "9f0e332c",
   "metadata": {},
   "outputs": [],
   "source": [
    "import pickle\n",
    "import hashlib\n",
    "import sys\n",
    "import datetime\n",
    "import pickle\n",
    "import sys\n",
    "from typing import Any, Dict, List\n"
   ]
  },
  {
   "cell_type": "code",
   "execution_count": 28,
   "id": "e3bce0f6",
   "metadata": {},
   "outputs": [],
   "source": [
    "def get_pickle_hash(obj):\n",
    "       try:\n",
    "           data = pickle.dumps(obj)\n",
    "           return hashlib.sha256(data).hexdigest()\n",
    "       except Exception as e:\n",
    "           return f\"ERROR: {e}\""
   ]
  },
  {
   "cell_type": "markdown",
   "id": "df3f22c4",
   "metadata": {},
   "source": [
    "## 白盒测试\n"
   ]
  },
  {
   "cell_type": "code",
   "execution_count": 26,
   "id": "0fea4a0c",
   "metadata": {},
   "outputs": [
    {
     "name": "stdout",
     "output_type": "stream",
     "text": [
      "开始运行白盒测试套件...\n",
      "\n",
      "=== 语句覆盖测试 ===\n",
      "测试用例: 基本序列化           | 结果: 成功\n",
      "测试用例: 不可序列化对象         | 结果: 成功\n",
      "测试用例: 循环引用            | 结果: 成功\n",
      "测试用例: 文件对象            | 结果: 失败 - cannot pickle '_io.TextIOWrapper' object\n",
      "测试用例: 线程对象            | 结果: 失败 - cannot pickle '_thread.lock' object\n",
      "测试用例: 协议版本            | 结果: 成功\n",
      "\n",
      "=== 条件覆盖测试 ===\n",
      "测试用例: 简单对象            | 结果: 成功\n",
      "测试用例: 复杂对象            | 结果: 成功\n",
      "测试用例: 空对象             | 结果: 成功\n",
      "测试用例: 大对象             | 结果: 成功\n",
      "\n",
      "=== 路径覆盖测试 ===\n",
      "嵌套深度 1   | 结果: 成功\n",
      "嵌套深度 10  | 结果: 成功\n",
      "嵌套深度 100 | 结果: 成功\n",
      "\n",
      "测试套件运行完成！\n"
     ]
    }
   ],
   "source": [
    "def create_circular_reference():\n",
    "    a = []\n",
    "    a.append(a)  # 创建循环引用\n",
    "    return a\n",
    "\n",
    "# 1. 语句覆盖测试\n",
    "def test_statement_coverage():\n",
    "    print(\"=== 语句覆盖测试 ===\")\n",
    "    test_cases = {\n",
    "        \"基本序列化\": 42,\n",
    "        \"不可序列化对象\": object(),\n",
    "        \"循环引用\": create_circular_reference(),\n",
    "        \"文件对象\": open(\"test.txt\", \"w\"),\n",
    "        \"线程对象\": threading.Thread(),\n",
    "        \"协议版本\": 42\n",
    "    }\n",
    "    \n",
    "    for name, obj in test_cases.items():\n",
    "        try:\n",
    "            if name == \"协议版本\":\n",
    "                result = pickle.dumps(obj, protocol=4)\n",
    "            else:\n",
    "                result = pickle.dumps(obj)\n",
    "            print(f\"测试用例: {name:<15} | 结果: 成功\")\n",
    "        except Exception as e:\n",
    "            print(f\"测试用例: {name:<15} | 结果: 失败 - {str(e)}\")\n",
    "\n",
    "\n",
    "# 2. 条件覆盖测试\n",
    "def test_condition_coverage():\n",
    "    print(\"\\n=== 条件覆盖测试 ===\")\n",
    "    test_cases = {\n",
    "        \"简单对象\": 42,\n",
    "        \"复杂对象\": {\"a\": [1, 2, 3]},\n",
    "        \"空对象\": None,\n",
    "        \"大对象\": \"x\" * 1000\n",
    "    }\n",
    "    \n",
    "    for name, obj in test_cases.items():\n",
    "        try:\n",
    "            result = pickle.dumps(obj)\n",
    "            print(f\"测试用例: {name:<15} | 结果: 成功\")\n",
    "        except Exception as e:\n",
    "            print(f\"测试用例: {name:<15} | 结果: 失败 - {str(e)}\")\n",
    "\n",
    "# 3. 路径覆盖测试\n",
    "def test_path_coverage():\n",
    "    print(\"\\n=== 路径覆盖测试 ===\")\n",
    "    def create_nested_structure(depth):\n",
    "        if depth == 0:\n",
    "            return \"leaf\"\n",
    "        return {\"nested\": create_nested_structure(depth - 1)}\n",
    "    \n",
    "    for depth in [1, 10, 100]:\n",
    "        try:\n",
    "            obj = create_nested_structure(depth)\n",
    "            result = pickle.dumps(obj)\n",
    "            print(f\"嵌套深度 {depth:<3} | 结果: 成功\")\n",
    "        except Exception as e:\n",
    "            print(f\"嵌套深度 {depth:<3} | 结果: 失败 - {str(e)}\")\n",
    "\n",
    "\n",
    "# 运行所有测试\n",
    "def run_all_tests():\n",
    "    print(\"开始运行白盒测试套件...\\n\")\n",
    "    test_statement_coverage()\n",
    "    test_condition_coverage()\n",
    "    test_path_coverage()\n",
    "    print(\"\\n测试套件运行完成！\")\n",
    "\n",
    "# 执行测试\n",
    "run_all_tests()"
   ]
  },
  {
   "cell_type": "markdown",
   "id": "983b6175",
   "metadata": {},
   "source": [
    "## 黑盒测试"
   ]
  },
  {
   "cell_type": "markdown",
   "id": "64fa2563",
   "metadata": {},
   "source": [
    "## 等价类划分"
   ]
  },
  {
   "cell_type": "code",
   "execution_count": 1,
   "id": "f903ffcb",
   "metadata": {},
   "outputs": [
    {
     "name": "stdout",
     "output_type": "stream",
     "text": [
      "等价类测试结果：\n",
      "================================================================================\n",
      "测试用例: 普通整数            | 对象: 42                             | 错误: name 'get_pickle_hash' is not defined | 通过: False\n",
      "测试用例: 浮点数             | 对象: 3.14159                        | 错误: name 'get_pickle_hash' is not defined | 通过: False\n",
      "测试用例: 布尔值True         | 对象: True                           | 错误: name 'get_pickle_hash' is not defined | 通过: False\n",
      "测试用例: 布尔值False        | 对象: False                          | 错误: name 'get_pickle_hash' is not defined | 通过: False\n",
      "测试用例: 列表对象            | 对象: [1, 2, 3]                      | 错误: name 'get_pickle_hash' is not defined | 通过: False\n",
      "测试用例: 元组对象            | 对象: (4, 5, 6)                      | 错误: name 'get_pickle_hash' is not defined | 通过: False\n",
      "测试用例: 字典对象            | 对象: {'a': 1, 'b': 2}               | 错误: name 'get_pickle_hash' is not defined | 通过: False\n",
      "测试用例: 集合对象            | 对象: {8, 9, 7}                      | 错误: name 'get_pickle_hash' is not defined | 通过: False\n",
      "测试用例: 特殊字符            | 对象: !@#$%^&*()_+{}|:<>?            | 错误: name 'get_pickle_hash' is not defined | 通过: False\n",
      "测试用例: Unicode字符串      | 对象: 你好，世界！                         | 错误: name 'get_pickle_hash' is not defined | 通过: False\n",
      "================================================================================\n"
     ]
    }
   ],
   "source": [
    "test_cases = {\n",
    "    \"普通整数\": 42,\n",
    "    \"浮点数\": 3.14159,\n",
    "    \"布尔值True\": True,\n",
    "    \"布尔值False\": False,\n",
    "    \"列表对象\": [1, 2, 3],\n",
    "    \"元组对象\": (4, 5, 6),\n",
    "    \"字典对象\": {\"a\": 1, \"b\": 2},\n",
    "    \"集合对象\": {7, 8, 9},\n",
    "    \"特殊字符\": \"!@#$%^&*()_+{}|:<>?\",\n",
    "    \"Unicode字符串\": \"你好，世界！\"\n",
    "}\n",
    "\n",
    "print(\"等价类测试结果：\")\n",
    "print(\"=\" * 80)\n",
    "for name, obj in test_cases.items():\n",
    "    try:\n",
    "        hash_result = get_pickle_hash(obj)\n",
    "        is_valid = isinstance(hash_result, str) and len(hash_result) == 64\n",
    "        print(f\"测试用例: {name:<15} | 对象: {str(obj)[:30]:<30} | 哈希: {hash_result} | 通过: {is_valid}\")\n",
    "    except Exception as e:\n",
    "        print(f\"测试用例: {name:<15} | 对象: {str(obj)[:30]:<30} | 错误: {str(e)} | 通过: False\")\n",
    "print(\"=\" * 80)"
   ]
  },
  {
   "cell_type": "markdown",
   "id": "aba62c65",
   "metadata": {},
   "source": [
    "## 边界情况测试"
   ]
  },
  {
   "cell_type": "code",
   "execution_count": 18,
   "id": "15bcb3fc",
   "metadata": {},
   "outputs": [
    {
     "name": "stdout",
     "output_type": "stream",
     "text": [
      "边界值测试结果：\n",
      "================================================================================\n",
      "测试用例: 空对象             | 对象: None                           | 哈希: 9c298d589a2158eb513cb52191144518a2acab2cb0c04f1df14fca0f712fa4a1 | 通过: True\n",
      "测试用例: 大对象             | 对象: {'data': 'xxxxxxxxxxxxxxxxxxxx | 哈希: 23dc9c3c405badcf8444a571d656d3c5dbbf647285e033c00cf6df967206d6d6 | 通过: True\n",
      "测试用例: 空字符串            | 对象:                                | 哈希: 8e2a8bd996c29b99c909664ee51eb5ee3b2358306a4269d5b69dd99075e6dd85 | 通过: True\n",
      "测试用例: 最大整数            | 对象: 9223372036854775807            | 哈希: a6d2c4015b1ac7cdb57d88d220317a5fc2ee30d3e9429988ff53f54b39f1ca97 | 通过: True\n",
      "测试用例: 最小浮点数           | 对象: 2.2250738585072014e-308        | 哈希: 2f639def69a32cf0165f9ed1981d5ebf1a96b2b191001ce3011bf6f047af962d | 通过: True\n",
      "测试用例: 深度嵌套对象          | 对象: {'nested': {'nested': {'nested | 哈希: 4d30d91fcb5e2dcf10a85aa8731a850a9a903b70067df4d9732ffb855d082a31 | 通过: True\n",
      "测试用例: 重复数据对象          | 对象: {'data': ['x', 'x', 'x', 'x',  | 哈希: fa871e2ce0e07a5554e8bf50e43b307320c556426d488ed08153dc6a0ba283ea | 通过: True\n",
      "================================================================================\n"
     ]
    }
   ],
   "source": [
    "def create_deep_dict(depth):\n",
    "    if depth == 0:\n",
    "        return \"leaf\"\n",
    "    return {\"nested\": create_deep_dict(depth - 1)}\n",
    "\n",
    "def run_boundary_tests():\n",
    "    test_cases = {\n",
    "        \"空对象\": None,\n",
    "        \"大对象\": {\"data\": \"x\" * 1000000},\n",
    "        \"空字符串\": \"\",\n",
    "        \"最大整数\": sys.maxsize,\n",
    "        \"最小浮点数\": sys.float_info.min,\n",
    "        \"深度嵌套对象\": create_deep_dict(100),\n",
    "        \"重复数据对象\": {\"data\": [\"x\"] * 10000}\n",
    "    }\n",
    "\n",
    "    print(\"边界值测试结果：\")\n",
    "    print(\"=\" * 80)\n",
    "    for name, obj in test_cases.items():\n",
    "        try:\n",
    "            hash_result = get_pickle_hash(obj)\n",
    "            is_valid = isinstance(hash_result, str) and len(hash_result) == 64\n",
    "            print(f\"测试用例: {name:<15} | 对象: {str(obj)[:30]:<30} | 哈希: {hash_result} | 通过: {is_valid}\")\n",
    "        except Exception as e:\n",
    "            print(f\"测试用例: {name:<15} | 对象: {str(obj)[:30]:<30} | 错误: {str(e)} | 通过: False\")\n",
    "    print(\"=\" * 80)\n",
    "\n",
    "run_boundary_tests()        "
   ]
  },
  {
   "cell_type": "markdown",
   "id": "62684af0",
   "metadata": {},
   "source": [
    "## 模糊测试示例：随机生成复杂对象并检查序列化稳定性\n"
   ]
  },
  {
   "cell_type": "code",
   "execution_count": 19,
   "id": "29ac5c5b",
   "metadata": {},
   "outputs": [
    {
     "name": "stdout",
     "output_type": "stream",
     "text": [
      "生成的结构: [{'0': {'0': 42, '1': True}, '1': {'0': 42, '1': 3.14}}, (('text', 3.14), [3.14, None])]\n",
      "第一次序列化哈希: 55a738e546d03f3163b5a0a4ea27350be29371e57ca269d5ce3c3519bce3ea3c\n",
      "第二次序列化哈希: 55a738e546d03f3163b5a0a4ea27350be29371e57ca269d5ce3c3519bce3ea3c\n",
      "哈希一致性: True\n"
     ]
    }
   ],
   "source": [
    "import random\n",
    "\n",
    "def generate_random_nested_structure(depth=3):\n",
    "    if depth == 0:\n",
    "        return random.choice([42, 3.14, True, \"text\", None])\n",
    "    structure_type = random.choice([\"list\", \"dict\", \"tuple\"])\n",
    "    if structure_type == \"list\":\n",
    "        return [generate_random_nested_structure(depth - 1) for _ in range(2)]\n",
    "    elif structure_type == \"dict\":\n",
    "        return {str(i): generate_random_nested_structure(depth - 1) for i in range(2)}\n",
    "    else:\n",
    "        return tuple(generate_random_nested_structure(depth - 1) for _ in range(2))\n",
    "\n",
    "fuzz_object = generate_random_nested_structure()\n",
    "hash_before = get_pickle_hash(fuzz_object)\n",
    "hash_after = get_pickle_hash(fuzz_object)\n",
    "\n",
    "print(\"生成的结构:\", fuzz_object)\n",
    "print(\"第一次序列化哈希:\", hash_before)\n",
    "print(\"第二次序列化哈希:\", hash_after)\n",
    "print(\"哈希一致性:\", hash_before == hash_after)"
   ]
  },
  {
   "cell_type": "markdown",
   "id": "9ca4a5df",
   "metadata": {},
   "source": [
    "## 哈希一致性测试：不同环境下相同对象的 Pickle 哈希值是否一致\n"
   ]
  },
  {
   "cell_type": "code",
   "execution_count": 29,
   "id": "092d63ad",
   "metadata": {},
   "outputs": [
    {
     "name": "stdout",
     "output_type": "stream",
     "text": [
      "第一次哈希: 415f39ea4600f7fee567c52c63c008d0dda456cc3fe918cb6b0f086918545b6b\n",
      "第二次哈希: 415f39ea4600f7fee567c52c63c008d0dda456cc3fe918cb6b0f086918545b6b\n",
      "第三次哈希: 415f39ea4600f7fee567c52c63c008d0dda456cc3fe918cb6b0f086918545b6b\n",
      "一致性: True\n"
     ]
    }
   ],
   "source": [
    "sample_object = {\"test\": [1, 2, 3], \"time\": datetime.datetime(2020, 1, 1)}\n",
    "\n",
    "hash1 = get_pickle_hash(sample_object)\n",
    "hash2 = get_pickle_hash(sample_object)\n",
    "hash3 = get_pickle_hash(sample_object)\n",
    "\n",
    "print(\"第一次哈希:\", hash1)\n",
    "print(\"第二次哈希:\", hash2)\n",
    "print(\"第三次哈希:\", hash3)\n",
    "print(\"一致性:\", hash1 == hash2 == hash3)"
   ]
  }
 ],
 "metadata": {
  "kernelspec": {
   "display_name": "Python 3",
   "language": "python",
   "name": "python3"
  },
  "language_info": {
   "codemirror_mode": {
    "name": "ipython",
    "version": 3
   },
   "file_extension": ".py",
   "mimetype": "text/x-python",
   "name": "python",
   "nbconvert_exporter": "python",
   "pygments_lexer": "ipython3",
   "version": "3.9.6"
  }
 },
 "nbformat": 4,
 "nbformat_minor": 5
}
