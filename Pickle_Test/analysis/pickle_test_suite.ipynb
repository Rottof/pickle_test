{
 "cells": [
  {
   "cell_type": "markdown",
   "id": "b41b3ed6",
   "metadata": {},
   "source": [
    "# Pickle 模块测试套件 - 稳定性与正确性分析\n"
   ]
  },
  {
   "cell_type": "code",
   "execution_count": 42,
   "id": "9f0e332c",
   "metadata": {},
   "outputs": [],
   "source": [
    "import pickle\n",
    "import hashlib\n",
    "import sys\n",
    "import platform\n",
    "import datetime\n",
    "import os\n"
   ]
  },
  {
   "cell_type": "code",
   "execution_count": null,
   "id": "10044f15",
   "metadata": {},
   "outputs": [],
   "source": [
    "def get_pickle_hash(obj):\n",
    "    try:\n",
    "        data = pickle.dumps(obj)\n",
    "        return hashlib.sha256(data).hexdigest()\n",
    "    except Exception as e:\n",
    "        return f\"ERROR: {e}\"\n"
   ]
  },
  {
   "cell_type": "markdown",
   "id": "6f132a98",
   "metadata": {},
   "source": [
    "## 功能性测试（Functional Testing）：基础类型的序列化\n"
   ]
  },
  {
   "cell_type": "code",
   "execution_count": null,
   "id": "87b8a0c9",
   "metadata": {},
   "outputs": [
    {
     "data": {
      "text/plain": [
       "{'整数': {'原始对象': 42, '反序列化结果': \"name 'pickle' is not defined\", '是否一致': False},\n",
       " '浮点数': {'原始对象': 3.14159,\n",
       "  '反序列化结果': \"name 'pickle' is not defined\",\n",
       "  '是否一致': False},\n",
       " '布尔值': {'原始对象': True,\n",
       "  '反序列化结果': \"name 'pickle' is not defined\",\n",
       "  '是否一致': False},\n",
       " '字符串': {'原始对象': 'ChatGPT',\n",
       "  '反序列化结果': \"name 'pickle' is not defined\",\n",
       "  '是否一致': False},\n",
       " '列表': {'原始对象': [1, 2, 3],\n",
       "  '反序列化结果': \"name 'pickle' is not defined\",\n",
       "  '是否一致': False},\n",
       " '字典': {'原始对象': {'a': 1, 'b': 2},\n",
       "  '反序列化结果': \"name 'pickle' is not defined\",\n",
       "  '是否一致': False},\n",
       " '元组': {'原始对象': (4, 5, 6),\n",
       "  '反序列化结果': \"name 'pickle' is not defined\",\n",
       "  '是否一致': False},\n",
       " '集合': {'原始对象': {7, 8, 9},\n",
       "  '反序列化结果': \"name 'pickle' is not defined\",\n",
       "  '是否一致': False},\n",
       " '嵌套结构': {'原始对象': {'x': [1, {'y': (3, 4)}]},\n",
       "  '反序列化结果': \"name 'pickle' is not defined\",\n",
       "  '是否一致': False},\n",
       " '空值': {'原始对象': None, '反序列化结果': \"name 'pickle' is not defined\", '是否一致': False}}"
      ]
     },
     "metadata": {},
     "output_type": "display_data"
    }
   ],
   "source": [
    "test_data = {\n",
    "    \"整数\": 42,\n",
    "    \"浮点数\": 3.14159,\n",
    "    \"布尔值\": True,\n",
    "    \"字符串\": \"ChatGPT\",\n",
    "    \"列表\": [1, 2, 3],\n",
    "    \"字典\": {\"a\": 1, \"b\": 2},\n",
    "    \"元组\": (4, 5, 6),\n",
    "    \"集合\": {7, 8, 9},\n",
    "    \"嵌套结构\": {\"x\": [1, {\"y\": (3, 4)}]},\n",
    "    \"空值\": None\n",
    "}\n",
    "\n",
    "results = {}\n",
    "for name, obj in test_data.items():\n",
    "    try:\n",
    "        serialized = pickle.dumps(obj)\n",
    "        deserialized = pickle.loads(serialized)\n",
    "        passed = obj == deserialized\n",
    "    except Exception as e:\n",
    "        passed = False\n",
    "        deserialized = str(e)\n",
    "    results[name] = {\n",
    "        \"原始对象\": obj,\n",
    "        \"反序列化结果\": deserialized,\n",
    "        \"是否一致\": passed\n",
    "    }\n",
    "\n",
    "results\n"
   ]
  },
  {
   "cell_type": "markdown",
   "id": "9ca4a5df",
   "metadata": {},
   "source": [
    "## 稳定性测试：相同对象的 Pickle 哈希值是否一致\n"
   ]
  },
  {
   "cell_type": "code",
   "execution_count": null,
   "id": "e55e5a5e",
   "metadata": {},
   "outputs": [
    {
     "name": "stdout",
     "output_type": "stream",
     "text": [
      "第一次哈希: 415f39ea4600f7fee567c52c63c008d0dda456cc3fe918cb6b0f086918545b6b\n",
      "第二次哈希: 415f39ea4600f7fee567c52c63c008d0dda456cc3fe918cb6b0f086918545b6b\n",
      "第三次哈希: 415f39ea4600f7fee567c52c63c008d0dda456cc3fe918cb6b0f086918545b6b\n",
      "一致性: True\n"
     ]
    }
   ],
   "source": [
    "sample_object = {\"test\": [1, 2, 3], \"time\": datetime.datetime(2020, 1, 1)}\n",
    "\n",
    "hash1 = get_pickle_hash(sample_object)\n",
    "hash2 = get_pickle_hash(sample_object)\n",
    "hash3 = get_pickle_hash(sample_object)\n",
    "\n",
    "print(\"第一次哈希:\", hash1)\n",
    "print(\"第二次哈希:\", hash2)\n",
    "print(\"第三次哈希:\", hash3)\n",
    "print(\"一致性:\", hash1 == hash2 == hash3)\n"
   ]
  },
  {
   "cell_type": "markdown",
   "id": "62684af0",
   "metadata": {},
   "source": [
    "## 模糊测试示例：随机生成复杂对象并检查序列化稳定性\n"
   ]
  },
  {
   "cell_type": "code",
   "execution_count": null,
   "id": "29ac5c5b",
   "metadata": {},
   "outputs": [
    {
     "name": "stdout",
     "output_type": "stream",
     "text": [
      "生成的结构: ({'0': [None, 42], '1': {'0': 3.14, '1': True}}, [{'0': 42, '1': 3.14}, ('text', 3.14)])\n",
      "哈希一致性: True\n"
     ]
    }
   ],
   "source": [
    "import random\n",
    "\n",
    "def generate_random_nested_structure(depth=3):\n",
    "    if depth == 0:\n",
    "        return random.choice([42, 3.14, True, \"text\", None])\n",
    "    structure_type = random.choice([\"list\", \"dict\", \"tuple\"])\n",
    "    if structure_type == \"list\":\n",
    "        return [generate_random_nested_structure(depth - 1) for _ in range(2)]\n",
    "    elif structure_type == \"dict\":\n",
    "        return {str(i): generate_random_nested_structure(depth - 1) for i in range(2)}\n",
    "    else:\n",
    "        return tuple(generate_random_nested_structure(depth - 1) for _ in range(2))\n",
    "\n",
    "fuzz_object = generate_random_nested_structure()\n",
    "hash_before = get_pickle_hash(fuzz_object)\n",
    "hash_after = get_pickle_hash(fuzz_object)\n",
    "\n",
    "print(\"生成的结构:\", fuzz_object)\n",
    "print(\"哈希一致性:\", hash_before == hash_after)\n"
   ]
  },
  {
   "cell_type": "markdown",
   "id": "54e07ea2",
   "metadata": {},
   "source": [
    "## 反序列化安全与一致性测试"
   ]
  },
  {
   "cell_type": "code",
   "execution_count": 43,
   "id": "012c6ea8",
   "metadata": {},
   "outputs": [
    {
     "name": "stdout",
     "output_type": "stream",
     "text": [
      "=== 传输稳定性测试 ===\n",
      "✅ 传输稳定性测试通过\n"
     ]
    }
   ],
   "source": [
    "print(\"=== 传输稳定性测试 ===\")\n",
    "try:\n",
    "    # 序列化\n",
    "    pickled_data = pickle.dumps(security_test_data, protocol=pickle.HIGHEST_PROTOCOL)\n",
    "    original_hash = hashlib.sha256(pickled_data).hexdigest()\n",
    "\n",
    "    # 压缩和编码\n",
    "    compressed = gzip.compress(pickled_data)\n",
    "    encoded = base64.b64encode(compressed)\n",
    "\n",
    "    # 解码和解压\n",
    "    decoded = base64.b64decode(encoded)\n",
    "    decompressed = gzip.decompress(decoded)\n",
    "\n",
    "    # 反序列化\n",
    "    restored_object = pickle.loads(decompressed)\n",
    "    restored_hash = hashlib.sha256(decompressed).hexdigest()\n",
    "\n",
    "    # 验证\n",
    "    assert restored_object == security_test_data\n",
    "    assert restored_hash == original_hash\n",
    "    print(\"✅ 传输稳定性测试通过\")\n",
    "except Exception as e:\n",
    "    print(f\"❌ 传输稳定性测试失败: {e}\")"
   ]
  }
 ],
 "metadata": {
  "kernelspec": {
   "display_name": "Python 3",
   "language": "python",
   "name": "python3"
  },
  "language_info": {
   "codemirror_mode": {
    "name": "ipython",
    "version": 3
   },
   "file_extension": ".py",
   "mimetype": "text/x-python",
   "name": "python",
   "nbconvert_exporter": "python",
   "pygments_lexer": "ipython3",
   "version": "3.9.6"
  }
 },
 "nbformat": 4,
 "nbformat_minor": 5
}
